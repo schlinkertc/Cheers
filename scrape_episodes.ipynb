{
 "cells": [
  {
   "cell_type": "code",
   "execution_count": 59,
   "metadata": {},
   "outputs": [],
   "source": [
    "import requests\n",
    "from bs4 import BeautifulSoup\n",
    "import joblib\n",
    "\n",
    "from selenium import webdriver\n",
    "from selenium.webdriver.common.keys import Keys\n",
    "from selenium.webdriver.common.by import By\n",
    "from selenium.webdriver.support.ui import WebDriverWait\n",
    "from selenium.webdriver.support import expected_conditions as EC"
   ]
  },
  {
   "cell_type": "code",
   "execution_count": 2,
   "metadata": {},
   "outputs": [],
   "source": [
    "url = \"https://en.wikipedia.org/wiki/List_of_Cheers_episodes\""
   ]
  },
  {
   "cell_type": "code",
   "execution_count": 3,
   "metadata": {},
   "outputs": [],
   "source": [
    "page = requests.get(url)"
   ]
  },
  {
   "cell_type": "code",
   "execution_count": 4,
   "metadata": {},
   "outputs": [],
   "source": [
    "bs = BeautifulSoup(page.content)"
   ]
  },
  {
   "cell_type": "code",
   "execution_count": 5,
   "metadata": {},
   "outputs": [],
   "source": [
    "tables = bs.find_all('table')"
   ]
  },
  {
   "cell_type": "code",
   "execution_count": 6,
   "metadata": {},
   "outputs": [],
   "source": [
    "import pandas as pd"
   ]
  },
  {
   "cell_type": "code",
   "execution_count": 7,
   "metadata": {},
   "outputs": [],
   "source": [
    "dfs = pd.read_html(url,)"
   ]
  },
  {
   "cell_type": "code",
   "execution_count": 8,
   "metadata": {},
   "outputs": [],
   "source": [
    "seasons = [df for df in dfs if 'No. inseason' in df.columns]"
   ]
  },
  {
   "cell_type": "code",
   "execution_count": 9,
   "metadata": {},
   "outputs": [],
   "source": [
    "cols = [\"No. Overall\",\"No. In Season\",\"Title\",\"Directed by\",\"Written by\",\"Original air date\",\"Rating/Share/Rank\"]"
   ]
  },
  {
   "cell_type": "code",
   "execution_count": 10,
   "metadata": {},
   "outputs": [],
   "source": [
    "for n,season in enumerate(seasons):\n",
    "    season.columns = cols\n",
    "    season['Season']=n+1"
   ]
  },
  {
   "cell_type": "code",
   "execution_count": 11,
   "metadata": {},
   "outputs": [],
   "source": [
    "df = pd.concat(seasons)"
   ]
  },
  {
   "cell_type": "code",
   "execution_count": 12,
   "metadata": {},
   "outputs": [],
   "source": [
    "df.to_csv('cheers_episodes.csv',index=False)"
   ]
  },
  {
   "cell_type": "code",
   "execution_count": 81,
   "metadata": {},
   "outputs": [],
   "source": [
    "chrome_driver_path = \"/Users/schlinkertc/code/Cheers/chromedriver\"\n",
    "driver = webdriver.Chrome(executable_path=chrome_driver_path)"
   ]
  },
  {
   "cell_type": "code",
   "execution_count": 83,
   "metadata": {},
   "outputs": [],
   "source": [
    " headers = {'User-Agent': \"\"\"Mozilla/5.0 (Macintosh; Intel Mac OS X 10_14_6) AppleWebKit/537.36 (KHTML, like Gecko) Chrome/79.0.3945.130 Safari/537.36\"\"\",\n",
    "    'Connection': 'keep-alive',\n",
    "    'Accept-Language': 'en-US,en;q=0.9',\n",
    "    \"Accept-Encoding\": \"gzip, deflate, br\",\n",
    "    \"Accept\": \"text/html,application/xhtml+xml,application/xml;q=0.9,image/webp,image/apng,*/*;q=0.8,application/signed-exchange;v=b3;q=0.9\",\n",
    "    'Upgrade-Insecure-Requests': '1',\n",
    "    'cookie': 'cookie_enabled=true',\n",
    "    #'referer': f'{wine_searcher_findURL}',\n",
    "    'sec-fetch-mode': 'navigate',\n",
    "    'sec-fetch-site': 'same-origin',\n",
    "    'cache-control': 'max-age=0',\n",
    "    \"sec-fetch-user\": \"?1\"\n",
    "}"
   ]
  },
  {
   "cell_type": "code",
   "execution_count": 90,
   "metadata": {},
   "outputs": [],
   "source": [
    "url = \"https://web.archive.org/web/20160315181702/http://www.springfieldspringfield.co.uk/episode_scripts.php?tv-show=cheers\""
   ]
  },
  {
   "cell_type": "code",
   "execution_count": 91,
   "metadata": {},
   "outputs": [],
   "source": [
    "page = requests.get(url,headers=headers)"
   ]
  },
  {
   "cell_type": "code",
   "execution_count": 92,
   "metadata": {},
   "outputs": [],
   "source": [
    "episode_links = bs.find_all(attrs={'class':'season-episode-title'})"
   ]
  },
  {
   "cell_type": "code",
   "execution_count": 95,
   "metadata": {},
   "outputs": [
    {
     "data": {
      "text/plain": [
       "<a class=\"season-episode-title\" href=\"view_episode_scripts.php?tv-show=cheers&amp;episode=s01e01\">N/A - s01e01</a>"
      ]
     },
     "execution_count": 95,
     "metadata": {},
     "output_type": "execute_result"
    }
   ],
   "source": [
    "episode_links[0]."
   ]
  },
  {
   "cell_type": "code",
   "execution_count": 94,
   "metadata": {},
   "outputs": [
    {
     "name": "stdout",
     "output_type": "stream",
     "text": [
      "['N/A - s01e01']\n",
      "['N/A - s01e02']\n",
      "['N/A - s01e03']\n",
      "['N/A - s01e04']\n",
      "['N/A - s01e05']\n",
      "['N/A - s01e06']\n",
      "['N/A - s01e07']\n",
      "['N/A - s01e08']\n",
      "['N/A - s01e09']\n",
      "['N/A - s01e10']\n",
      "['N/A - s01e11']\n",
      "['N/A - s01e12']\n",
      "['N/A - s01e13']\n",
      "['N/A - s01e14']\n",
      "['N/A - s01e15']\n",
      "['N/A - s01e16']\n",
      "['N/A - s01e17']\n",
      "['N/A - s01e18']\n",
      "['N/A - s01e19']\n",
      "['N/A - s01e20']\n",
      "['N/A - s01e21']\n",
      "['N/A - s01e22']\n",
      "['N/A - s02e01']\n",
      "['N/A - s02e02']\n",
      "['N/A - s02e03']\n",
      "['N/A - s02e04']\n",
      "['N/A - s02e05']\n",
      "['N/A - s02e06']\n",
      "['N/A - s02e07']\n",
      "['N/A - s02e08']\n",
      "['N/A - s02e09']\n",
      "['N/A - s02e10']\n",
      "['N/A - s02e11']\n",
      "['N/A - s02e12']\n",
      "['N/A - s02e13']\n",
      "['N/A - s02e14']\n",
      "['N/A - s02e15']\n",
      "['N/A - s02e16']\n",
      "['N/A - s02e17']\n",
      "['N/A - s02e18']\n",
      "['N/A - s02e19']\n",
      "['N/A - s02e20']\n",
      "['N/A - s02e21']\n",
      "['N/A - s02e22']\n",
      "['N/A - s03e01']\n",
      "['N/A - s03e02']\n",
      "['N/A - s03e03']\n",
      "['N/A - s03e04']\n",
      "['N/A - s03e05']\n",
      "['N/A - s03e06']\n",
      "['N/A - s03e07']\n",
      "['N/A - s03e08']\n",
      "['N/A - s03e09']\n",
      "['N/A - s03e10']\n",
      "['N/A - s03e11']\n",
      "['N/A - s03e12']\n",
      "['N/A - s03e13']\n",
      "['N/A - s03e14']\n",
      "['N/A - s03e15']\n",
      "['N/A - s03e16']\n",
      "['N/A - s03e17']\n",
      "['N/A - s03e18']\n",
      "['N/A - s03e19']\n",
      "['N/A - s03e20']\n",
      "['N/A - s03e21']\n",
      "['N/A - s03e22']\n",
      "['N/A - s03e23']\n",
      "['N/A - s03e24']\n",
      "['N/A - s03e25']\n",
      "['N/A - s04e01']\n",
      "['N/A - s04e02']\n",
      "['N/A - s04e03']\n",
      "['N/A - s04e04']\n",
      "['N/A - s04e05']\n",
      "['N/A - s04e06']\n",
      "['N/A - s04e07']\n",
      "['N/A - s04e08']\n",
      "['N/A - s04e09']\n",
      "['N/A - s04e10']\n",
      "['N/A - s04e11']\n",
      "['N/A - s04e12']\n",
      "['N/A - s04e13']\n",
      "['N/A - s04e14']\n",
      "['N/A - s04e15']\n",
      "['N/A - s04e16']\n",
      "['N/A - s04e17']\n",
      "['N/A - s04e18']\n",
      "['N/A - s04e19']\n",
      "['N/A - s04e20']\n",
      "['N/A - s04e21']\n",
      "['N/A - s04e22']\n",
      "['N/A - s04e23']\n",
      "['N/A - s04e24']\n",
      "['N/A - s04e25']\n",
      "['N/A - s04e26']\n",
      "['N/A - s05e01']\n",
      "['N/A - s05e02']\n",
      "['N/A - s05e03']\n",
      "['N/A - s05e04']\n",
      "['N/A - s05e05']\n",
      "['N/A - s05e06']\n",
      "['N/A - s05e07']\n",
      "['N/A - s05e08']\n",
      "['N/A - s05e09']\n",
      "['N/A - s05e10']\n",
      "['N/A - s05e11']\n",
      "['N/A - s05e12']\n",
      "['N/A - s05e13']\n",
      "['N/A - s05e14']\n",
      "['N/A - s05e15']\n",
      "['N/A - s05e16']\n",
      "['N/A - s05e17']\n",
      "['N/A - s05e18']\n",
      "['N/A - s05e19']\n",
      "['N/A - s05e20']\n",
      "['N/A - s05e21']\n",
      "['N/A - s05e22']\n",
      "['N/A - s05e23']\n",
      "['N/A - s05e24']\n",
      "['N/A - s05e25']\n",
      "['N/A - s05e26']\n",
      "['N/A - s06e01']\n",
      "['N/A - s06e02']\n",
      "['N/A - s06e03']\n",
      "['N/A - s06e04']\n",
      "['N/A - s06e05']\n",
      "['N/A - s06e06']\n",
      "['N/A - s06e07']\n",
      "['N/A - s06e08']\n",
      "['N/A - s06e09']\n",
      "['N/A - s06e10']\n",
      "['N/A - s06e11']\n",
      "['N/A - s06e12']\n",
      "['N/A - s06e13']\n",
      "['N/A - s06e14']\n",
      "['N/A - s06e15']\n",
      "['N/A - s06e16']\n",
      "['N/A - s06e17']\n",
      "['N/A - s06e18']\n",
      "['N/A - s06e19']\n",
      "['N/A - s06e20']\n",
      "['N/A - s06e21']\n",
      "['N/A - s06e22']\n",
      "['N/A - s06e23']\n",
      "['N/A - s06e24']\n",
      "['N/A - s06e25']\n",
      "['N/A - s07e01']\n",
      "['N/A - s07e02']\n",
      "['N/A - s07e03']\n",
      "['N/A - s07e04']\n",
      "['N/A - s07e05']\n",
      "['N/A - s07e06']\n",
      "['N/A - s07e07']\n",
      "['N/A - s07e08']\n",
      "['N/A - s07e09']\n",
      "['N/A - s07e10']\n",
      "['N/A - s07e11']\n",
      "['N/A - s07e12']\n",
      "['N/A - s07e13']\n",
      "['N/A - s07e14']\n",
      "['N/A - s07e15']\n",
      "['N/A - s07e16']\n",
      "['N/A - s07e17']\n",
      "['N/A - s07e18']\n",
      "['N/A - s07e19']\n",
      "['N/A - s07e20']\n",
      "['N/A - s07e21']\n",
      "['N/A - s07e22']\n",
      "['N/A - s08e01']\n",
      "['N/A - s08e02']\n",
      "['N/A - s08e03']\n",
      "['N/A - s08e04']\n",
      "['N/A - s08e05']\n",
      "['N/A - s08e06']\n",
      "['N/A - s08e07']\n",
      "['N/A - s08e08']\n",
      "['N/A - s08e09']\n",
      "['N/A - s08e10']\n",
      "['N/A - s08e11']\n",
      "['N/A - s08e12']\n",
      "['N/A - s08e13']\n",
      "['N/A - s08e14']\n",
      "['N/A - s08e15']\n",
      "['N/A - s08e16']\n",
      "['N/A - s08e17']\n",
      "['N/A - s08e18']\n",
      "['N/A - s08e19']\n",
      "['N/A - s08e20']\n",
      "['N/A - s08e21']\n",
      "['N/A - s08e22']\n",
      "['N/A - s08e23']\n",
      "['N/A - s08e24']\n",
      "['N/A - s08e25']\n",
      "['N/A - s08e26']\n",
      "['N/A - s09e01']\n",
      "['N/A - s09e02']\n",
      "['N/A - s09e03']\n",
      "['N/A - s09e04']\n",
      "['N/A - s09e05']\n",
      "['N/A - s09e06']\n",
      "['N/A - s09e07']\n",
      "['N/A - s09e08']\n",
      "['N/A - s09e09']\n",
      "['N/A - s09e10']\n",
      "['N/A - s09e11']\n",
      "['N/A - s09e12']\n",
      "['N/A - s09e13']\n",
      "['N/A - s09e14']\n",
      "['N/A - s09e15']\n",
      "['N/A - s09e16']\n",
      "['N/A - s09e17']\n",
      "['N/A - s09e18']\n",
      "['N/A - s09e19']\n",
      "['N/A - s09e20']\n",
      "['N/A - s09e21']\n",
      "['N/A - s09e22']\n",
      "['N/A - s09e23']\n",
      "['N/A - s09e24']\n",
      "['N/A - s09e25']\n",
      "['N/A - s10e01']\n",
      "['N/A - s10e02']\n",
      "['N/A - s10e03']\n",
      "['N/A - s10e04']\n",
      "['N/A - s10e05']\n",
      "['N/A - s10e06']\n",
      "['N/A - s10e07']\n",
      "['N/A - s10e08']\n",
      "['N/A - s10e09']\n",
      "['N/A - s10e10']\n",
      "['N/A - s10e11']\n",
      "['N/A - s10e12']\n",
      "['N/A - s10e13']\n",
      "['N/A - s10e14']\n",
      "['N/A - s10e15']\n",
      "['N/A - s10e16']\n",
      "['N/A - s10e17']\n",
      "['N/A - s10e18']\n",
      "['N/A - s10e19']\n",
      "['N/A - s10e20']\n",
      "['N/A - s10e21']\n",
      "['N/A - s10e22']\n",
      "['N/A - s10e23']\n",
      "['N/A - s10e24']\n",
      "['N/A - s10e25']\n",
      "['N/A - s11e01']\n",
      "['N/A - s11e02']\n",
      "['N/A - s11e03']\n",
      "['N/A - s11e04']\n",
      "['N/A - s11e05']\n",
      "['N/A - s11e06']\n",
      "['N/A - s11e07']\n",
      "['N/A - s11e08']\n",
      "['N/A - s11e09']\n",
      "['N/A - s11e10']\n",
      "['N/A - s11e11']\n",
      "['N/A - s11e12']\n",
      "['N/A - s11e13']\n",
      "['N/A - s11e14']\n",
      "['N/A - s11e15']\n",
      "['N/A - s11e16']\n",
      "['N/A - s11e17']\n",
      "['N/A - s11e18']\n",
      "['N/A - s11e19']\n",
      "['N/A - s11e20']\n",
      "['N/A - s11e21']\n",
      "['N/A - s11e22']\n",
      "['N/A - s11e23']\n",
      "['N/A - s11e24']\n",
      "['N/A - s11e25']\n"
     ]
    }
   ],
   "source": [
    "for episode in episode_links:\n",
    "    print(episode.contents)"
   ]
  },
  {
   "cell_type": "code",
   "execution_count": 37,
   "metadata": {},
   "outputs": [],
   "source": [
    "from selenium.webdriver.support.ui import WebDriverWait"
   ]
  },
  {
   "cell_type": "code",
   "execution_count": 43,
   "metadata": {},
   "outputs": [],
   "source": [
    "import time"
   ]
  },
  {
   "cell_type": "code",
   "execution_count": 44,
   "metadata": {},
   "outputs": [],
   "source": [
    "def get_archived_page(episode):\n",
    "    chrome_driver_path = \"/Users/schlinkertc/code/Cheers/chromedriver\"\n",
    "    driver = webdriver.Chrome(executable_path=chrome_driver_path) \n",
    "    \n",
    "    driver.get(\"http://web.archive.org/\")\n",
    "\n",
    "    search_bar = driver.find_element_by_xpath(\"//*[@id='react-wayback-search']/div[1]/div[3]/form/div/div[1]/input\")\n",
    "\n",
    "    search_bar.send_keys(\n",
    "        f\"http://www.springfieldspringfield.co.uk/view_episode_scripts.php?tv-show=cheers&episode={episode}\"\n",
    "    )\n",
    "\n",
    "    search_bar.send_keys(Keys.RETURN)\n",
    "    time.sleep(10)\n",
    "    url = driver.current_url\n",
    "    \n",
    "    print(url)\n",
    "    page = requests.get(url,headers=headers)\n",
    "\n",
    "    bs = BeautifulSoup(page.content)\n",
    "    \n",
    "    links = [e['href'] for e in bs.find_all('a')]\n",
    "    driver.quit()\n",
    "    return links"
   ]
  },
  {
   "cell_type": "code",
   "execution_count": 45,
   "metadata": {},
   "outputs": [
    {
     "name": "stdout",
     "output_type": "stream",
     "text": [
      "http://web.archive.org/web/2014*/http://www.springfieldspringfield.co.uk/view_episode_scripts.php?tv-show=cheers&episode=S01E01\n"
     ]
    },
    {
     "data": {
      "text/plain": [
       "['/',\n",
       " 'https://archive.org/web/',\n",
       " 'https://archive.org/details/texts',\n",
       " 'https://archive.org/details/movies',\n",
       " 'https://archive.org/details/audio',\n",
       " 'https://archive.org/details/software',\n",
       " 'https://archive.org/details/image',\n",
       " 'https://archive.org/about/',\n",
       " 'https://archive.org/about/contact.php',\n",
       " '//blog.archive.org',\n",
       " 'https://archive.org/projects',\n",
       " 'https://archive.org/about/faqs.php',\n",
       " 'https://archive.org/donate',\n",
       " 'https://archive.org/about/jobs.php',\n",
       " 'https://archive.org/about/volunteerpositions.php',\n",
       " 'https://archive.org/about/bios.php',\n",
       " 'https://archive.org/search.php',\n",
       " 'https://archive.org/advancedsearch.php',\n",
       " 'https://archive.org/create',\n",
       " 'https://archive.org/account/login',\n",
       " 'https://archive.org/about/',\n",
       " 'https://archive.org/about/contact.php',\n",
       " '//blog.archive.org',\n",
       " 'https://archive.org/projects',\n",
       " 'https://archive.org/about/faqs.php',\n",
       " 'https://archive.org/donate',\n",
       " 'https://archive.org/about/jobs.php',\n",
       " 'https://archive.org/about/volunteerpositions.php',\n",
       " 'https://archive.org/about/bios.php',\n",
       " 'https://blog.archive.org/2016/10/23/defining-web-pages-web-sites-and-web-captures/',\n",
       " 'https://archive.org/web/',\n",
       " 'https://archive.org/details/books',\n",
       " 'https://archive.org/details/texts',\n",
       " 'https://archive.org/search.php?query=mediatype:texts&sort=-publicdate',\n",
       " 'https://archive.org/details/smithsonian',\n",
       " 'https://archive.org/details/fedlink',\n",
       " 'https://archive.org/details/genealogy',\n",
       " 'https://archive.org/details/lincolncollection',\n",
       " 'https://archive.org/details/inlibrary?sort=-publicdate',\n",
       " 'https://archive.org/details/inlibrary?sort=-publicdate',\n",
       " 'https://archive.org/details/americana',\n",
       " 'https://archive.org/details/toronto',\n",
       " 'https://archive.org/details/universallibrary',\n",
       " 'https://archive.org/details/opensource',\n",
       " 'https://archive.org/details/gutenberg',\n",
       " 'https://archive.org/details/biodiversity',\n",
       " 'https://archive.org/details/iacl',\n",
       " 'https://openlibrary.org',\n",
       " 'https://openlibrary.org',\n",
       " 'https://archive.org/details/booksbylanguage',\n",
       " 'https://archive.org/details/additional_collections',\n",
       " 'https://archive.org/details/movies',\n",
       " 'https://archive.org/search.php?query=mediatype:movies&sort=-publicdate',\n",
       " 'https://archive.org/details/prelinger',\n",
       " 'https://archive.org/details/democracy_now_vid',\n",
       " 'https://archive.org/details/occupywallstreet',\n",
       " 'https://archive.org/details/nsa',\n",
       " 'https://archive.org/details/tv',\n",
       " 'https://archive.org/details/tv',\n",
       " 'https://archive.org/details/animationandcartoons',\n",
       " 'https://archive.org/details/artsandmusicvideos',\n",
       " 'https://archive.org/details/computersandtechvideos',\n",
       " 'https://archive.org/details/culturalandacademicfilms',\n",
       " 'https://archive.org/details/ephemera',\n",
       " 'https://archive.org/details/moviesandfilms',\n",
       " 'https://archive.org/details/newsandpublicaffairs',\n",
       " 'https://archive.org/details/911',\n",
       " 'https://archive.org/details/911',\n",
       " 'https://archive.org/details/spiritualityandreligion',\n",
       " 'https://archive.org/details/sports',\n",
       " 'https://archive.org/details/television',\n",
       " 'https://archive.org/details/gamevideos',\n",
       " 'https://archive.org/details/vlogs',\n",
       " 'https://archive.org/details/youth_media',\n",
       " 'https://archive.org/details/nmcma',\n",
       " 'https://archive.org/details/audio',\n",
       " 'https://archive.org/search.php?query=mediatype:audio&sort=-publicdate',\n",
       " 'https://archive.org/details/GratefulDead',\n",
       " 'https://archive.org/details/netlabels',\n",
       " 'https://archive.org/details/oldtimeradio',\n",
       " 'https://archive.org/details/78rpm',\n",
       " 'https://archive.org/details/etree',\n",
       " 'https://archive.org/details/etree',\n",
       " 'https://archive.org/details/audio_bookspoetry',\n",
       " 'https://archive.org/details/opensource_audio',\n",
       " 'https://archive.org/details/audio_tech',\n",
       " 'https://archive.org/details/audio_music',\n",
       " 'https://archive.org/details/audio_news',\n",
       " 'https://archive.org/details/audio_foreign',\n",
       " 'https://archive.org/details/audio_religion',\n",
       " 'https://archive.org/details/librivoxaudio',\n",
       " 'https://archive.org/details/librivoxaudio',\n",
       " 'https://archive.org/details/podcasts',\n",
       " 'https://archive.org/details/software',\n",
       " 'https://archive.org/search.php?query=mediatype:software&sort=-publicdate',\n",
       " 'https://archive.org/details/tosec',\n",
       " 'https://archive.org/details/softwarelibrary_msdos_games',\n",
       " 'https://archive.org/details/historicalsoftware',\n",
       " 'https://archive.org/details/classicpcgames',\n",
       " 'https://archive.org/details/softwarelibrary',\n",
       " 'https://archive.org/details/internetarcade',\n",
       " 'https://archive.org/details/internetarcade',\n",
       " 'https://archive.org/details/kodi_archive',\n",
       " 'https://archive.org/details/open_source_software',\n",
       " 'https://archive.org/details/vintagesoftware',\n",
       " 'https://archive.org/details/apkarchive',\n",
       " 'https://archive.org/details/softwarelibrary_msdos',\n",
       " 'https://archive.org/details/cd-roms',\n",
       " 'https://archive.org/details/cdromsoftware',\n",
       " 'https://archive.org/details/consolelivingroom',\n",
       " 'https://archive.org/details/consolelivingroom',\n",
       " 'https://archive.org/details/softwaresites',\n",
       " 'https://archive.org/details/tucows',\n",
       " 'https://archive.org/details/cdbbsarchive',\n",
       " 'https://archive.org/details/softwarecapsules',\n",
       " 'https://archive.org/details/cdromimages',\n",
       " 'https://archive.org/details/softwarelibrary_zx_spectrum',\n",
       " 'https://archive.org/details/doom-cds',\n",
       " 'https://archive.org/details/image',\n",
       " 'https://archive.org/search.php?query=mediatype:image&sort=-publicdate',\n",
       " 'https://archive.org/details/flickrcommons',\n",
       " 'https://archive.org/details/flickr-ows',\n",
       " 'https://archive.org/details/coverartarchive',\n",
       " 'https://archive.org/details/maps_usgs',\n",
       " 'https://archive.org/details/metropolitanmuseumofart-gallery',\n",
       " 'https://archive.org/details/metropolitanmuseumofart-gallery',\n",
       " 'https://archive.org/details/nasa',\n",
       " 'https://archive.org/details/solarsystemcollection',\n",
       " 'https://archive.org/details/amesresearchcenterimagelibrary',\n",
       " 'https://archive.org/details/brooklynmuseum',\n",
       " 'https://archive.org/details/brooklynmuseum',\n",
       " '#',\n",
       " '#',\n",
       " '#',\n",
       " 'mailto:info@archive.org',\n",
       " '//archive.org/',\n",
       " '//archive.org/projects/',\n",
       " 'https://openlibrary.org/',\n",
       " 'https://archive-it.org',\n",
       " '//archive.org/about/terms.php']"
      ]
     },
     "execution_count": 45,
     "metadata": {},
     "output_type": "execute_result"
    }
   ],
   "source": [
    "get_archived_page('S01E01')"
   ]
  },
  {
   "cell_type": "code",
   "execution_count": null,
   "metadata": {},
   "outputs": [],
   "source": [
    "driver.get(links[-1])"
   ]
  },
  {
   "cell_type": "code",
   "execution_count": null,
   "metadata": {},
   "outputs": [],
   "source": [
    "days = driver.find_elements_by_class_name('month-day-container')"
   ]
  },
  {
   "cell_type": "code",
   "execution_count": null,
   "metadata": {},
   "outputs": [],
   "source": [
    "days[0].find"
   ]
  },
  {
   "cell_type": "code",
   "execution_count": null,
   "metadata": {},
   "outputs": [],
   "source": [
    "archived = []\n",
    "for day in days:\n",
    "    div = day.find_elements_by_tag_name('div')\n",
    "    if len(div) != 0:\n",
    "        archived.append(div[0])"
   ]
  },
  {
   "cell_type": "code",
   "execution_count": null,
   "metadata": {},
   "outputs": [],
   "source": [
    "archive = archived[0]"
   ]
  },
  {
   "cell_type": "code",
   "execution_count": null,
   "metadata": {},
   "outputs": [],
   "source": [
    "archive.find_element_by_tag_name('a').click()"
   ]
  },
  {
   "cell_type": "code",
   "execution_count": null,
   "metadata": {},
   "outputs": [],
   "source": []
  }
 ],
 "metadata": {
  "kernelspec": {
   "display_name": "Python 3",
   "language": "python",
   "name": "python3"
  },
  "language_info": {
   "codemirror_mode": {
    "name": "ipython",
    "version": 3
   },
   "file_extension": ".py",
   "mimetype": "text/x-python",
   "name": "python",
   "nbconvert_exporter": "python",
   "pygments_lexer": "ipython3",
   "version": "3.7.3"
  }
 },
 "nbformat": 4,
 "nbformat_minor": 4
}
